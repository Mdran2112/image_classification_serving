{
 "cells": [
  {
   "cell_type": "code",
   "execution_count": 3,
   "metadata": {},
   "outputs": [],
   "source": [
    "import requests\n",
    "import cv2\n",
    "import json\n",
    "import base64"
   ]
  },
  {
   "cell_type": "code",
   "execution_count": 4,
   "metadata": {},
   "outputs": [],
   "source": [
    "\n",
    "j_body = {\n",
    "  \"images\": []\n",
    "}\n",
    "\n",
    "# Generate input body, encoding images in base64.\n",
    "for i, file in enumerate([\"dog1.png\", \"dog2.png\"]):\n",
    "\n",
    "    img = cv2.imread(file)\n",
    "    img = cv2.cvtColor(img, cv2.COLOR_BGR2RGB)\n",
    "    png_as_text = base64.b64encode(cv2.imencode('.png', img)[1]).decode()\n",
    "    j_body[\"images\"].append(\n",
    "        {\n",
    "          \"img_base64\": png_as_text,\n",
    "          \"image_id\": i\n",
    "        }\n",
    "    )\n"
   ]
  },
  {
   "cell_type": "markdown",
   "metadata": {},
   "source": [
    "### Set model request"
   ]
  },
  {
   "cell_type": "code",
   "execution_count": 18,
   "metadata": {},
   "outputs": [
    {
     "data": {
      "text/plain": [
       "{'detail': '/app/models/animals_classifier_va0/animals_classifier_va0.hdf5'}"
      ]
     },
     "execution_count": 18,
     "metadata": {},
     "output_type": "execute_result"
    }
   ],
   "source": [
    "# Configure server in order to define which model will be used in classification.\n",
    "resp=requests.put(\"http://localhost:5050/classifier/prediction-service/animals_classifier_v0\", \n",
    "                   headers={\"X-API-KEY\": \"hola\"}).json()\n",
    "resp"
   ]
  },
  {
   "cell_type": "markdown",
   "metadata": {},
   "source": [
    "### Prediction request"
   ]
  },
  {
   "cell_type": "code",
   "execution_count": 17,
   "metadata": {},
   "outputs": [
    {
     "data": {
      "text/plain": [
       "{'code': 200,\n",
       " 'response': {'model': 'animals_classifier_v0',\n",
       "  'results': [{'image_id': 0, 'max_score': 0.8450826406478882, 'label': 'dog'},\n",
       "   {'image_id': 1, 'max_score': 0.8735647201538086, 'label': 'dog'}]}}"
      ]
     },
     "execution_count": 17,
     "metadata": {},
     "output_type": "execute_result"
    }
   ],
   "source": [
    "# Make prediction passing the encoded images and using the model previously defined. \n",
    "resp=requests.post(\"http://localhost:5050/classifier/predictions\", \n",
    "                   headers={\"X-API-KEY\": \"hola\"},\n",
    "                   json=j_body).json()\n",
    "resp"
   ]
  }
 ],
 "metadata": {
  "kernelspec": {
   "display_name": "Python 3",
   "language": "python",
   "name": "python3"
  },
  "language_info": {
   "codemirror_mode": {
    "name": "ipython",
    "version": 3
   },
   "file_extension": ".py",
   "mimetype": "text/x-python",
   "name": "python",
   "nbconvert_exporter": "python",
   "pygments_lexer": "ipython3",
   "version": "3.7.3"
  }
 },
 "nbformat": 4,
 "nbformat_minor": 4
}
