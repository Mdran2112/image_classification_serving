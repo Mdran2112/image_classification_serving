{
 "cells": [
  {
   "cell_type": "code",
   "execution_count": 126,
   "metadata": {},
   "outputs": [],
   "source": [
    "import requests\n",
    "import cv2\n",
    "import json"
   ]
  },
  {
   "cell_type": "code",
   "execution_count": 122,
   "metadata": {},
   "outputs": [],
   "source": [
    "\n",
    "j_body = {\n",
    "  \"images\": []\n",
    "}\n",
    "\n",
    "for i, file in enumerate([\"dog1.png\", \"dog2.png\"]):\n",
    "\n",
    "    img = cv2.imread(file)\n",
    "    img = cv2.cvtColor(img, cv2.COLOR_BGR2RGB)\n",
    "    png_as_text = base64.b64encode(cv2.imencode('.png', img)[1]).decode()\n",
    "    j_body[\"images\"].append(\n",
    "        {\n",
    "          \"img_base64\": png_as_text,\n",
    "          \"image_id\": i\n",
    "        }\n",
    "    )\n"
   ]
  },
  {
   "cell_type": "code",
   "execution_count": 143,
   "metadata": {},
   "outputs": [
    {
     "data": {
      "text/plain": [
       "{'code': 200,\n",
       " 'response': {'model': 'animals_classifier_v0',\n",
       "  'results': [{'image_id': 0, 'max_score': 0.8450826406478882, 'label': 'dog'},\n",
       "   {'image_id': 1, 'max_score': 0.8735647201538086, 'label': 'dog'}]}}"
      ]
     },
     "execution_count": 143,
     "metadata": {},
     "output_type": "execute_result"
    }
   ],
   "source": [
    "resp=requests.post(\"http://localhost:8000/classifier/predictions\", \n",
    "                   headers={\"X-API-KEY\": \"MYAPIKEY\"},\n",
    "                   json=j_body).json()\n",
    "resp"
   ]
  }
 ],
 "metadata": {
  "kernelspec": {
   "display_name": "Python 3",
   "language": "python",
   "name": "python3"
  },
  "language_info": {
   "codemirror_mode": {
    "name": "ipython",
    "version": 3
   },
   "file_extension": ".py",
   "mimetype": "text/x-python",
   "name": "python",
   "nbconvert_exporter": "python",
   "pygments_lexer": "ipython3",
   "version": "3.7.3"
  }
 },
 "nbformat": 4,
 "nbformat_minor": 4
}
